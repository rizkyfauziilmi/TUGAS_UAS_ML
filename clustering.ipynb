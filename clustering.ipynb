{
 "cells": [
  {
   "cell_type": "markdown",
   "id": "2fb6fb78",
   "metadata": {},
   "source": [
    "# 📊 Tugas Besar Pembelajaran Mesin - Clustering\n",
    "\n",
    "## 👨‍🏫 Universitas Widyatama  \n",
    "**Mata Kuliah:** Pembelajaran Mesin  \n",
    "**Semester:** Genap 2024/2025  \n",
    "**Topik:** Clustering Menggunakan K-Means (CPU vs GPU)  \n",
    "**Kelompok:**  \n",
    "- Danang (23508018)  \n",
    "- Iwan (23508019)  \n",
    "- Sari (23508020)\n",
    "\n",
    "---\n",
    "\n",
    "## 🧩 Studi Kasus\n",
    "Pada tugas ini kami melakukan eksplorasi teknik **Clustering** menggunakan algoritma **K-Means**. Fokus utama adalah membandingkan hasil dan performa antara implementasi K-Means berbasis **CPU (sklearn)** dan **GPU (cuML)**.\n",
    "\n",
    "Dataset yang digunakan dipilih dari sumber terpercaya dan mencakup beberapa skala ukuran data, dari kecil hingga sangat besar, untuk melihat pengaruh skala terhadap performa.\n",
    "\n",
    "---\n",
    "\n",
    "## 🎯 Tujuan\n",
    "- Menerapkan algoritma **K-Means Clustering** pada berbagai dataset.\n",
    "- Melakukan **Preprocessing** dan **Normalisasi** data.\n",
    "- Menjalankan program K-Means menggunakan **CPU** dan **GPU**.\n",
    "- Melakukan **evaluasi performa** dan **hasil cluster**.\n",
    "- Menyimpulkan efektivitas penggunaan GPU dalam proses clustering skala besar.\n",
    "\n",
    "---\n",
    "\n",
    "## 📏 Kategori Ukuran Dataset\n",
    "\n",
    "Dalam proyek ini, kami menentukan **kategori ukuran dataset** berdasarkan **jumlah baris (row / sample)**, karena algoritma Clustering seperti K-Means bekerja dengan menghitung jarak antar data point. Oleh karena itu, jumlah instance menjadi faktor utama yang memengaruhi beban komputasi dan efisiensi, terutama saat dibandingkan antara CPU dan GPU.\n",
    "\n",
    "### 📊 Tabel Kategori Ukuran Dataset\n",
    "\n",
    "| Kategori       | Jumlah Baris (Row)      |\n",
    "|----------------|--------------------------|\n",
    "| **Kecil**       | < 1.000                  |\n",
    "| **Sedang**      | 1.000 – 10.000           |\n",
    "| **Besar**       | 10.000 – 100.000         |\n",
    "| **Sangat Besar**| > 100.000                |\n",
    "\n",
    "---\n",
    "\n",
    "## 📁 Struktur Notebook\n",
    "1. 📥 **Import Library & Persiapan Lingkungan**\n",
    "2. 📂 **Load Dataset**\n",
    "3. 🧼 **Preprocessing & Normalisasi**\n",
    "4. 🔁 **Implementasi K-Means (CPU & GPU)**\n",
    "5. 🧪 **Evaluasi dan Komparasi**\n",
    "6. 📈 **Visualisasi Cluster**\n",
    "7. 📊 **Significant Test: CPU vs GPU**\n",
    "8. 📝 **Kesimpulan Akhir**\n",
    "\n",
    "---\n",
    "\n",
    "## ⚙️ Dokumentasi Environtment dengan Instalasi RAPIDS cuML dan library lainnya\n",
    "\n",
    "Untuk menjalankan algoritma **K-Means menggunakan GPU**, kami menggunakan pustaka **RAPIDS `cuML`**, yang dikembangkan oleh NVIDIA dan hanya dapat diinstal melalui `conda`.\n",
    "\n",
    "### 📦 Syarat Sistem:\n",
    "- GPU NVIDIA Volta™ atau lebih tinggi dengan compute capability 7.0+\n",
    "- Distribusi Linux yang kompatibel atau WSL2 pada Windows 11\n",
    "- Versi CUDA dan driver NVIDIA terbaru yang sesuai. Cek dengan: nvidia-smi\n",
    "\n",
    "### 🧱 Langkah-Langkah Instalasi\n",
    "\n",
    "#### 1. Jalankan install script rapids\n",
    "```bash\n",
    "wget \"https://github.com/conda-forge/miniforge/releases/latest/download/Miniforge3-$(uname)-$(uname -m).sh\"\n",
    "bash Miniforge3-$(uname)-$(uname -m).sh\n",
    "```\n",
    "#### 2. Install RAPIDS cuML\n",
    "```bash\n",
    "conda create -n nama_environtment -c rapidsai -c conda-forge -c nvidia rapids=25.04 python=3.12 cuda-version=12.8\n",
    "conda activate nama_environtment\n",
    "```\n",
    "#### 4. Install library cuML\n",
    "```bash\n",
    "pip install \\\n",
    "  --extra-index-url=https://pypi.nvidia.com \\\n",
    "  cuml-cu12==25.4.* \\\n",
    "```\n",
    "#### 5. Install library lainnya\n",
    "```bash\n",
    "pip install \\\n",
    "  pandas \\\n",
    "  numpy \\\n",
    "  scikit-learn \\\n",
    "  matplotlib \\\n",
    "  seaborn \\\n",
    "  kagglehub \\\n",
    "```\n",
    "### 6. Install Jupyter Notebook\n",
    "```bash\n",
    "conda install notebook ipykernel -y\n",
    "python -m ipykernel install --user --name nama_environment --display-name \"Nama Project\"\n",
    "```\n",
    "---"
   ]
  },
  {
   "cell_type": "markdown",
   "id": "4ddae9c5",
   "metadata": {},
   "source": [
    "### 1. 📥 **Import Library & Persiapan Lingkungan**"
   ]
  },
  {
   "cell_type": "markdown",
   "id": "a1056273",
   "metadata": {},
   "source": [
    "- Install (check) semua library yang diperlukan."
   ]
  },
  {
   "cell_type": "code",
   "execution_count": 304,
   "id": "266e7736",
   "metadata": {},
   "outputs": [
    {
     "name": "stdout",
     "output_type": "stream",
     "text": [
      "Requirement already satisfied: kagglehub in /home/rizkyfauziilmi/anaconda3/lib/python3.12/site-packages (0.3.12)\n",
      "Requirement already satisfied: numpy in /home/rizkyfauziilmi/anaconda3/lib/python3.12/site-packages (1.26.4)\n",
      "Requirement already satisfied: pandas in /home/rizkyfauziilmi/anaconda3/lib/python3.12/site-packages (2.2.2)\n",
      "Requirement already satisfied: scikit-learn in /home/rizkyfauziilmi/anaconda3/lib/python3.12/site-packages (1.5.1)\n",
      "Requirement already satisfied: matplotlib in /home/rizkyfauziilmi/anaconda3/lib/python3.12/site-packages (3.9.2)\n",
      "Requirement already satisfied: seaborn in /home/rizkyfauziilmi/anaconda3/lib/python3.12/site-packages (0.13.2)\n",
      "Requirement already satisfied: packaging in /home/rizkyfauziilmi/anaconda3/lib/python3.12/site-packages (from kagglehub) (24.1)\n",
      "Requirement already satisfied: pyyaml in /home/rizkyfauziilmi/anaconda3/lib/python3.12/site-packages (from kagglehub) (6.0.1)\n",
      "Requirement already satisfied: requests in /home/rizkyfauziilmi/anaconda3/lib/python3.12/site-packages (from kagglehub) (2.32.3)\n",
      "Requirement already satisfied: tqdm in /home/rizkyfauziilmi/anaconda3/lib/python3.12/site-packages (from kagglehub) (4.66.5)\n",
      "Requirement already satisfied: python-dateutil>=2.8.2 in /home/rizkyfauziilmi/anaconda3/lib/python3.12/site-packages (from pandas) (2.9.0.post0)\n",
      "Requirement already satisfied: pytz>=2020.1 in /home/rizkyfauziilmi/anaconda3/lib/python3.12/site-packages (from pandas) (2024.1)\n",
      "Requirement already satisfied: tzdata>=2022.7 in /home/rizkyfauziilmi/anaconda3/lib/python3.12/site-packages (from pandas) (2023.3)\n",
      "Requirement already satisfied: scipy>=1.6.0 in /home/rizkyfauziilmi/anaconda3/lib/python3.12/site-packages (from scikit-learn) (1.13.1)\n",
      "Requirement already satisfied: joblib>=1.2.0 in /home/rizkyfauziilmi/anaconda3/lib/python3.12/site-packages (from scikit-learn) (1.4.2)\n",
      "Requirement already satisfied: threadpoolctl>=3.1.0 in /home/rizkyfauziilmi/anaconda3/lib/python3.12/site-packages (from scikit-learn) (3.5.0)\n",
      "Requirement already satisfied: contourpy>=1.0.1 in /home/rizkyfauziilmi/anaconda3/lib/python3.12/site-packages (from matplotlib) (1.2.0)\n",
      "Requirement already satisfied: cycler>=0.10 in /home/rizkyfauziilmi/anaconda3/lib/python3.12/site-packages (from matplotlib) (0.11.0)\n",
      "Requirement already satisfied: fonttools>=4.22.0 in /home/rizkyfauziilmi/anaconda3/lib/python3.12/site-packages (from matplotlib) (4.51.0)\n",
      "Requirement already satisfied: kiwisolver>=1.3.1 in /home/rizkyfauziilmi/anaconda3/lib/python3.12/site-packages (from matplotlib) (1.4.4)\n",
      "Requirement already satisfied: pillow>=8 in /home/rizkyfauziilmi/anaconda3/lib/python3.12/site-packages (from matplotlib) (10.4.0)\n",
      "Requirement already satisfied: pyparsing>=2.3.1 in /home/rizkyfauziilmi/anaconda3/lib/python3.12/site-packages (from matplotlib) (3.1.2)\n",
      "Requirement already satisfied: six>=1.5 in /home/rizkyfauziilmi/anaconda3/lib/python3.12/site-packages (from python-dateutil>=2.8.2->pandas) (1.16.0)\n",
      "Requirement already satisfied: charset-normalizer<4,>=2 in /home/rizkyfauziilmi/anaconda3/lib/python3.12/site-packages (from requests->kagglehub) (3.3.2)\n",
      "Requirement already satisfied: idna<4,>=2.5 in /home/rizkyfauziilmi/anaconda3/lib/python3.12/site-packages (from requests->kagglehub) (3.7)\n",
      "Requirement already satisfied: urllib3<3,>=1.21.1 in /home/rizkyfauziilmi/anaconda3/lib/python3.12/site-packages (from requests->kagglehub) (2.2.3)\n",
      "Requirement already satisfied: certifi>=2017.4.17 in /home/rizkyfauziilmi/anaconda3/lib/python3.12/site-packages (from requests->kagglehub) (2025.4.26)\n",
      "Note: you may need to restart the kernel to use updated packages.\n"
     ]
    }
   ],
   "source": [
    "%pip install kagglehub numpy pandas scikit-learn matplotlib seaborn"
   ]
  },
  {
   "cell_type": "markdown",
   "id": "8fd8fc86",
   "metadata": {},
   "source": [
    "- Download dataset dari Kaggle."
   ]
  },
  {
   "cell_type": "code",
   "execution_count": 1,
   "id": "b16edada",
   "metadata": {},
   "outputs": [
    {
     "name": "stdout",
     "output_type": "stream",
     "text": [
      "Downloading from https://www.kaggle.com/api/v1/datasets/download/prasad22/healthcare-dataset?dataset_version_number=2...\n"
     ]
    },
    {
     "name": "stderr",
     "output_type": "stream",
     "text": [
      "100%|██████████| 2.91M/2.91M [00:20<00:00, 152kB/s]"
     ]
    },
    {
     "name": "stdout",
     "output_type": "stream",
     "text": [
      "Extracting files...\n"
     ]
    },
    {
     "name": "stderr",
     "output_type": "stream",
     "text": [
      "\n"
     ]
    }
   ],
   "source": [
    "import kagglehub\n",
    "\n",
    "path_data_kecil = kagglehub.dataset_download(\"adilshamim8/social-media-addiction-vs-relationships\")\n",
    "path_data_besar = kagglehub.dataset_download(\"prasad22/healthcare-dataset\")"
   ]
  },
  {
   "cell_type": "markdown",
   "id": "c0959037",
   "metadata": {},
   "source": [
    "---\n",
    "\n",
    "### 2. 📂 **Load Dataset**"
   ]
  },
  {
   "cell_type": "code",
   "execution_count": 4,
   "id": "730233bc",
   "metadata": {},
   "outputs": [
    {
     "name": "stdout",
     "output_type": "stream",
     "text": [
      "Jumlah baris data kecil: 705\n",
      "/home/rizkyfauziilmi/.cache/kagglehub/datasets/prasad22/healthcare-dataset/versions/2\n"
     ]
    },
    {
     "data": {
      "application/vnd.microsoft.datawrangler.viewer.v0+json": {
       "columns": [
        {
         "name": "index",
         "rawType": "int64",
         "type": "integer"
        },
        {
         "name": "Student_ID",
         "rawType": "int64",
         "type": "integer"
        },
        {
         "name": "Age",
         "rawType": "int64",
         "type": "integer"
        },
        {
         "name": "Gender",
         "rawType": "object",
         "type": "string"
        },
        {
         "name": "Academic_Level",
         "rawType": "object",
         "type": "string"
        },
        {
         "name": "Country",
         "rawType": "object",
         "type": "string"
        },
        {
         "name": "Avg_Daily_Usage_Hours",
         "rawType": "float64",
         "type": "float"
        },
        {
         "name": "Most_Used_Platform",
         "rawType": "object",
         "type": "string"
        },
        {
         "name": "Affects_Academic_Performance",
         "rawType": "object",
         "type": "string"
        },
        {
         "name": "Sleep_Hours_Per_Night",
         "rawType": "float64",
         "type": "float"
        },
        {
         "name": "Mental_Health_Score",
         "rawType": "int64",
         "type": "integer"
        },
        {
         "name": "Relationship_Status",
         "rawType": "object",
         "type": "string"
        },
        {
         "name": "Conflicts_Over_Social_Media",
         "rawType": "int64",
         "type": "integer"
        },
        {
         "name": "Addicted_Score",
         "rawType": "int64",
         "type": "integer"
        }
       ],
       "ref": "68bc88ad-b7ec-4f25-b1df-f0a9ce82ded5",
       "rows": [
        [
         "0",
         "1",
         "19",
         "Female",
         "Undergraduate",
         "Bangladesh",
         "5.2",
         "Instagram",
         "Yes",
         "6.5",
         "6",
         "In Relationship",
         "3",
         "8"
        ],
        [
         "1",
         "2",
         "22",
         "Male",
         "Graduate",
         "India",
         "2.1",
         "Twitter",
         "No",
         "7.5",
         "8",
         "Single",
         "0",
         "3"
        ],
        [
         "2",
         "3",
         "20",
         "Female",
         "Undergraduate",
         "USA",
         "6.0",
         "TikTok",
         "Yes",
         "5.0",
         "5",
         "Complicated",
         "4",
         "9"
        ],
        [
         "3",
         "4",
         "18",
         "Male",
         "High School",
         "UK",
         "3.0",
         "YouTube",
         "No",
         "7.0",
         "7",
         "Single",
         "1",
         "4"
        ],
        [
         "4",
         "5",
         "21",
         "Male",
         "Graduate",
         "Canada",
         "4.5",
         "Facebook",
         "Yes",
         "6.0",
         "6",
         "In Relationship",
         "2",
         "7"
        ]
       ],
       "shape": {
        "columns": 13,
        "rows": 5
       }
      },
      "text/html": [
       "<div>\n",
       "<style scoped>\n",
       "    .dataframe tbody tr th:only-of-type {\n",
       "        vertical-align: middle;\n",
       "    }\n",
       "\n",
       "    .dataframe tbody tr th {\n",
       "        vertical-align: top;\n",
       "    }\n",
       "\n",
       "    .dataframe thead th {\n",
       "        text-align: right;\n",
       "    }\n",
       "</style>\n",
       "<table border=\"1\" class=\"dataframe\">\n",
       "  <thead>\n",
       "    <tr style=\"text-align: right;\">\n",
       "      <th></th>\n",
       "      <th>Student_ID</th>\n",
       "      <th>Age</th>\n",
       "      <th>Gender</th>\n",
       "      <th>Academic_Level</th>\n",
       "      <th>Country</th>\n",
       "      <th>Avg_Daily_Usage_Hours</th>\n",
       "      <th>Most_Used_Platform</th>\n",
       "      <th>Affects_Academic_Performance</th>\n",
       "      <th>Sleep_Hours_Per_Night</th>\n",
       "      <th>Mental_Health_Score</th>\n",
       "      <th>Relationship_Status</th>\n",
       "      <th>Conflicts_Over_Social_Media</th>\n",
       "      <th>Addicted_Score</th>\n",
       "    </tr>\n",
       "  </thead>\n",
       "  <tbody>\n",
       "    <tr>\n",
       "      <th>0</th>\n",
       "      <td>1</td>\n",
       "      <td>19</td>\n",
       "      <td>Female</td>\n",
       "      <td>Undergraduate</td>\n",
       "      <td>Bangladesh</td>\n",
       "      <td>5.2</td>\n",
       "      <td>Instagram</td>\n",
       "      <td>Yes</td>\n",
       "      <td>6.5</td>\n",
       "      <td>6</td>\n",
       "      <td>In Relationship</td>\n",
       "      <td>3</td>\n",
       "      <td>8</td>\n",
       "    </tr>\n",
       "    <tr>\n",
       "      <th>1</th>\n",
       "      <td>2</td>\n",
       "      <td>22</td>\n",
       "      <td>Male</td>\n",
       "      <td>Graduate</td>\n",
       "      <td>India</td>\n",
       "      <td>2.1</td>\n",
       "      <td>Twitter</td>\n",
       "      <td>No</td>\n",
       "      <td>7.5</td>\n",
       "      <td>8</td>\n",
       "      <td>Single</td>\n",
       "      <td>0</td>\n",
       "      <td>3</td>\n",
       "    </tr>\n",
       "    <tr>\n",
       "      <th>2</th>\n",
       "      <td>3</td>\n",
       "      <td>20</td>\n",
       "      <td>Female</td>\n",
       "      <td>Undergraduate</td>\n",
       "      <td>USA</td>\n",
       "      <td>6.0</td>\n",
       "      <td>TikTok</td>\n",
       "      <td>Yes</td>\n",
       "      <td>5.0</td>\n",
       "      <td>5</td>\n",
       "      <td>Complicated</td>\n",
       "      <td>4</td>\n",
       "      <td>9</td>\n",
       "    </tr>\n",
       "    <tr>\n",
       "      <th>3</th>\n",
       "      <td>4</td>\n",
       "      <td>18</td>\n",
       "      <td>Male</td>\n",
       "      <td>High School</td>\n",
       "      <td>UK</td>\n",
       "      <td>3.0</td>\n",
       "      <td>YouTube</td>\n",
       "      <td>No</td>\n",
       "      <td>7.0</td>\n",
       "      <td>7</td>\n",
       "      <td>Single</td>\n",
       "      <td>1</td>\n",
       "      <td>4</td>\n",
       "    </tr>\n",
       "    <tr>\n",
       "      <th>4</th>\n",
       "      <td>5</td>\n",
       "      <td>21</td>\n",
       "      <td>Male</td>\n",
       "      <td>Graduate</td>\n",
       "      <td>Canada</td>\n",
       "      <td>4.5</td>\n",
       "      <td>Facebook</td>\n",
       "      <td>Yes</td>\n",
       "      <td>6.0</td>\n",
       "      <td>6</td>\n",
       "      <td>In Relationship</td>\n",
       "      <td>2</td>\n",
       "      <td>7</td>\n",
       "    </tr>\n",
       "  </tbody>\n",
       "</table>\n",
       "</div>"
      ],
      "text/plain": [
       "   Student_ID  Age  Gender Academic_Level     Country  Avg_Daily_Usage_Hours  \\\n",
       "0           1   19  Female  Undergraduate  Bangladesh                    5.2   \n",
       "1           2   22    Male       Graduate       India                    2.1   \n",
       "2           3   20  Female  Undergraduate         USA                    6.0   \n",
       "3           4   18    Male    High School          UK                    3.0   \n",
       "4           5   21    Male       Graduate      Canada                    4.5   \n",
       "\n",
       "  Most_Used_Platform Affects_Academic_Performance  Sleep_Hours_Per_Night  \\\n",
       "0          Instagram                          Yes                    6.5   \n",
       "1            Twitter                           No                    7.5   \n",
       "2             TikTok                          Yes                    5.0   \n",
       "3            YouTube                           No                    7.0   \n",
       "4           Facebook                          Yes                    6.0   \n",
       "\n",
       "   Mental_Health_Score Relationship_Status  Conflicts_Over_Social_Media  \\\n",
       "0                    6     In Relationship                            3   \n",
       "1                    8              Single                            0   \n",
       "2                    5         Complicated                            4   \n",
       "3                    7              Single                            1   \n",
       "4                    6     In Relationship                            2   \n",
       "\n",
       "   Addicted_Score  \n",
       "0               8  \n",
       "1               3  \n",
       "2               9  \n",
       "3               4  \n",
       "4               7  "
      ]
     },
     "metadata": {},
     "output_type": "display_data"
    }
   ],
   "source": [
    "import pandas as pd\n",
    "\n",
    "df_kecil = pd.read_csv(path_data_kecil + \"/Students Social Media Addiction.csv\")\n",
    "\n",
    "print(f\"Jumlah baris data kecil: {df_kecil.shape[0]}\")\n",
    "print(path_data_besar)\n",
    "\n",
    "display(df_kecil.head())"
   ]
  },
  {
   "cell_type": "markdown",
   "id": "d6998183",
   "metadata": {},
   "source": [
    "---\n",
    "\n",
    "### 3. 🧼 **Preprocessing & Normalisasi**"
   ]
  },
  {
   "cell_type": "markdown",
   "id": "16de67ab",
   "metadata": {},
   "source": [
    "- Hapus Kolom yang Tidak Relevan"
   ]
  },
  {
   "cell_type": "code",
   "execution_count": 292,
   "id": "de99ebac",
   "metadata": {},
   "outputs": [
    {
     "data": {
      "application/vnd.microsoft.datawrangler.viewer.v0+json": {
       "columns": [
        {
         "name": "index",
         "rawType": "int64",
         "type": "integer"
        },
        {
         "name": "Age",
         "rawType": "int64",
         "type": "integer"
        },
        {
         "name": "Gender",
         "rawType": "object",
         "type": "string"
        },
        {
         "name": "Academic_Level",
         "rawType": "object",
         "type": "string"
        },
        {
         "name": "Country",
         "rawType": "object",
         "type": "string"
        },
        {
         "name": "Avg_Daily_Usage_Hours",
         "rawType": "float64",
         "type": "float"
        },
        {
         "name": "Most_Used_Platform",
         "rawType": "object",
         "type": "string"
        },
        {
         "name": "Affects_Academic_Performance",
         "rawType": "object",
         "type": "string"
        },
        {
         "name": "Sleep_Hours_Per_Night",
         "rawType": "float64",
         "type": "float"
        },
        {
         "name": "Mental_Health_Score",
         "rawType": "int64",
         "type": "integer"
        },
        {
         "name": "Relationship_Status",
         "rawType": "object",
         "type": "string"
        },
        {
         "name": "Conflicts_Over_Social_Media",
         "rawType": "int64",
         "type": "integer"
        },
        {
         "name": "Addicted_Score",
         "rawType": "int64",
         "type": "integer"
        }
       ],
       "conversionMethod": "pd.DataFrame",
       "ref": "0b5ec4fa-cea7-4254-80df-d840eb611b81",
       "rows": [
        [
         "0",
         "19",
         "Female",
         "Undergraduate",
         "Bangladesh",
         "5.2",
         "Instagram",
         "Yes",
         "6.5",
         "6",
         "In Relationship",
         "3",
         "8"
        ],
        [
         "1",
         "22",
         "Male",
         "Graduate",
         "India",
         "2.1",
         "Twitter",
         "No",
         "7.5",
         "8",
         "Single",
         "0",
         "3"
        ],
        [
         "2",
         "20",
         "Female",
         "Undergraduate",
         "USA",
         "6.0",
         "TikTok",
         "Yes",
         "5.0",
         "5",
         "Complicated",
         "4",
         "9"
        ],
        [
         "3",
         "18",
         "Male",
         "High School",
         "UK",
         "3.0",
         "YouTube",
         "No",
         "7.0",
         "7",
         "Single",
         "1",
         "4"
        ],
        [
         "4",
         "21",
         "Male",
         "Graduate",
         "Canada",
         "4.5",
         "Facebook",
         "Yes",
         "6.0",
         "6",
         "In Relationship",
         "2",
         "7"
        ]
       ],
       "shape": {
        "columns": 12,
        "rows": 5
       }
      },
      "text/html": [
       "<div>\n",
       "<style scoped>\n",
       "    .dataframe tbody tr th:only-of-type {\n",
       "        vertical-align: middle;\n",
       "    }\n",
       "\n",
       "    .dataframe tbody tr th {\n",
       "        vertical-align: top;\n",
       "    }\n",
       "\n",
       "    .dataframe thead th {\n",
       "        text-align: right;\n",
       "    }\n",
       "</style>\n",
       "<table border=\"1\" class=\"dataframe\">\n",
       "  <thead>\n",
       "    <tr style=\"text-align: right;\">\n",
       "      <th></th>\n",
       "      <th>Age</th>\n",
       "      <th>Gender</th>\n",
       "      <th>Academic_Level</th>\n",
       "      <th>Country</th>\n",
       "      <th>Avg_Daily_Usage_Hours</th>\n",
       "      <th>Most_Used_Platform</th>\n",
       "      <th>Affects_Academic_Performance</th>\n",
       "      <th>Sleep_Hours_Per_Night</th>\n",
       "      <th>Mental_Health_Score</th>\n",
       "      <th>Relationship_Status</th>\n",
       "      <th>Conflicts_Over_Social_Media</th>\n",
       "      <th>Addicted_Score</th>\n",
       "    </tr>\n",
       "  </thead>\n",
       "  <tbody>\n",
       "    <tr>\n",
       "      <th>0</th>\n",
       "      <td>19</td>\n",
       "      <td>Female</td>\n",
       "      <td>Undergraduate</td>\n",
       "      <td>Bangladesh</td>\n",
       "      <td>5.2</td>\n",
       "      <td>Instagram</td>\n",
       "      <td>Yes</td>\n",
       "      <td>6.5</td>\n",
       "      <td>6</td>\n",
       "      <td>In Relationship</td>\n",
       "      <td>3</td>\n",
       "      <td>8</td>\n",
       "    </tr>\n",
       "    <tr>\n",
       "      <th>1</th>\n",
       "      <td>22</td>\n",
       "      <td>Male</td>\n",
       "      <td>Graduate</td>\n",
       "      <td>India</td>\n",
       "      <td>2.1</td>\n",
       "      <td>Twitter</td>\n",
       "      <td>No</td>\n",
       "      <td>7.5</td>\n",
       "      <td>8</td>\n",
       "      <td>Single</td>\n",
       "      <td>0</td>\n",
       "      <td>3</td>\n",
       "    </tr>\n",
       "    <tr>\n",
       "      <th>2</th>\n",
       "      <td>20</td>\n",
       "      <td>Female</td>\n",
       "      <td>Undergraduate</td>\n",
       "      <td>USA</td>\n",
       "      <td>6.0</td>\n",
       "      <td>TikTok</td>\n",
       "      <td>Yes</td>\n",
       "      <td>5.0</td>\n",
       "      <td>5</td>\n",
       "      <td>Complicated</td>\n",
       "      <td>4</td>\n",
       "      <td>9</td>\n",
       "    </tr>\n",
       "    <tr>\n",
       "      <th>3</th>\n",
       "      <td>18</td>\n",
       "      <td>Male</td>\n",
       "      <td>High School</td>\n",
       "      <td>UK</td>\n",
       "      <td>3.0</td>\n",
       "      <td>YouTube</td>\n",
       "      <td>No</td>\n",
       "      <td>7.0</td>\n",
       "      <td>7</td>\n",
       "      <td>Single</td>\n",
       "      <td>1</td>\n",
       "      <td>4</td>\n",
       "    </tr>\n",
       "    <tr>\n",
       "      <th>4</th>\n",
       "      <td>21</td>\n",
       "      <td>Male</td>\n",
       "      <td>Graduate</td>\n",
       "      <td>Canada</td>\n",
       "      <td>4.5</td>\n",
       "      <td>Facebook</td>\n",
       "      <td>Yes</td>\n",
       "      <td>6.0</td>\n",
       "      <td>6</td>\n",
       "      <td>In Relationship</td>\n",
       "      <td>2</td>\n",
       "      <td>7</td>\n",
       "    </tr>\n",
       "  </tbody>\n",
       "</table>\n",
       "</div>"
      ],
      "text/plain": [
       "   Age  Gender Academic_Level     Country  Avg_Daily_Usage_Hours  \\\n",
       "0   19  Female  Undergraduate  Bangladesh                    5.2   \n",
       "1   22    Male       Graduate       India                    2.1   \n",
       "2   20  Female  Undergraduate         USA                    6.0   \n",
       "3   18    Male    High School          UK                    3.0   \n",
       "4   21    Male       Graduate      Canada                    4.5   \n",
       "\n",
       "  Most_Used_Platform Affects_Academic_Performance  Sleep_Hours_Per_Night  \\\n",
       "0          Instagram                          Yes                    6.5   \n",
       "1            Twitter                           No                    7.5   \n",
       "2             TikTok                          Yes                    5.0   \n",
       "3            YouTube                           No                    7.0   \n",
       "4           Facebook                          Yes                    6.0   \n",
       "\n",
       "   Mental_Health_Score Relationship_Status  Conflicts_Over_Social_Media  \\\n",
       "0                    6     In Relationship                            3   \n",
       "1                    8              Single                            0   \n",
       "2                    5         Complicated                            4   \n",
       "3                    7              Single                            1   \n",
       "4                    6     In Relationship                            2   \n",
       "\n",
       "   Addicted_Score  \n",
       "0               8  \n",
       "1               3  \n",
       "2               9  \n",
       "3               4  \n",
       "4               7  "
      ]
     },
     "metadata": {},
     "output_type": "display_data"
    }
   ],
   "source": [
    "df_kecil = df_kecil.drop(columns=[\"Student_ID\"])\n",
    "\n",
    "display(df_kecil.head())"
   ]
  },
  {
   "cell_type": "markdown",
   "id": "bee85b2b",
   "metadata": {},
   "source": [
    "- Cek dan Tangani Missing Values (Null / NaN)"
   ]
  },
  {
   "cell_type": "code",
   "execution_count": 293,
   "id": "466a527e",
   "metadata": {},
   "outputs": [
    {
     "data": {
      "text/plain": [
       "Age                             0\n",
       "Gender                          0\n",
       "Academic_Level                  0\n",
       "Country                         0\n",
       "Avg_Daily_Usage_Hours           0\n",
       "Most_Used_Platform              0\n",
       "Affects_Academic_Performance    0\n",
       "Sleep_Hours_Per_Night           0\n",
       "Mental_Health_Score             0\n",
       "Relationship_Status             0\n",
       "Conflicts_Over_Social_Media     0\n",
       "Addicted_Score                  0\n",
       "dtype: int64"
      ]
     },
     "execution_count": 293,
     "metadata": {},
     "output_type": "execute_result"
    }
   ],
   "source": [
    "df_kecil.isnull().sum()"
   ]
  },
  {
   "cell_type": "markdown",
   "id": "621156cf",
   "metadata": {},
   "source": [
    "- Cek Outlier"
   ]
  },
  {
   "cell_type": "code",
   "execution_count": 294,
   "id": "828fb0db",
   "metadata": {},
   "outputs": [],
   "source": [
    "import seaborn as sns\n",
    "import matplotlib.pyplot as plt"
   ]
  },
  {
   "cell_type": "code",
   "execution_count": 295,
   "id": "ba48ebfb",
   "metadata": {},
   "outputs": [],
   "source": [
    "def plot_boxplots(dataframe: pd.DataFrame, before_outlier: bool = True) -> None:\n",
    "    \"\"\"\n",
    "    Menampilkan boxplot untuk setiap kolom numerik pada dataframe dalam satu kesatuan graf.\n",
    "\n",
    "    Parameter:\n",
    "    ----------\n",
    "    dataframe : DataFrame\n",
    "        DataFrame yang akan divisualisasikan.\n",
    "    before_outlier : bool, default=True\n",
    "        Jika True, judul boxplot menandakan sebelum deteksi outlier.\n",
    "        Jika False, menandakan setelah penanganan outlier.\n",
    "    \"\"\"\n",
    "    numeric_columns = dataframe.select_dtypes(include=['float64', 'int64']).columns\n",
    "    n_cols = len(numeric_columns)\n",
    "    plt.figure(figsize=(max(8, 2 * n_cols), 3))\n",
    "    sns.boxplot(data=dataframe[numeric_columns], orient=\"h\")\n",
    "    plt.title(f'Boxplot Semua Kolom Numerik {\"(Sebelum Deteksi Outlier)\" if before_outlier else \"(Setelah Penanganan Outlier)\"}')\n",
    "    plt.xlabel(\"Value\")\n",
    "    plt.show()\n",
    "\n",
    "def handle_outliers_iqr(dataframe: pd.DataFrame) -> pd.DataFrame:\n",
    "    \"\"\"\n",
    "    Mendeteksi dan menangani outlier pada kolom numerik menggunakan metode IQR.\n",
    "    Outlier akan di-clipping ke persentil 5% dan 95%.\n",
    "\n",
    "    Parameter:\n",
    "    ----------\n",
    "    dataframe : DataFrame\n",
    "        DataFrame yang akan diproses.\n",
    "\n",
    "    Return:\n",
    "    -------\n",
    "    DataFrame\n",
    "        DataFrame baru dengan outlier yang sudah ditangani.\n",
    "    \"\"\"\n",
    "    numeric_columns = dataframe.select_dtypes(include=['float64', 'int64']).columns\n",
    "    total_outliers = 0\n",
    "    columns_with_outliers = []\n",
    "\n",
    "    if numeric_columns.empty:\n",
    "        print(\"Tidak ada kolom numerik untuk memeriksa outlier.\")\n",
    "        return dataframe\n",
    "\n",
    "    print(f\"Kolom numerik yang akan diperiksa: {', '.join(numeric_columns)}\")\n",
    "    df_no_outlier = dataframe.copy()\n",
    "\n",
    "\n",
    "    print(\"Boxplot sebelum deteksi outlier:\")\n",
    "    plot_boxplots(dataframe, before_outlier=True)\n",
    "    print(\"Mendeteksi outlier menggunakan metode IQR...\")\n",
    "    # Mendeteksi outlier menggunakan metode IQR\n",
    "    for col in numeric_columns:\n",
    "        Q1 = dataframe[col].quantile(0.25)\n",
    "        Q3 = dataframe[col].quantile(0.75)\n",
    "        IQR = Q3 - Q1\n",
    "        lower_bound = Q1 - 1.5 * IQR\n",
    "        upper_bound = Q3 + 1.5 * IQR\n",
    "        outliers = dataframe[(dataframe[col] < lower_bound) | (dataframe[col] > upper_bound)]\n",
    "        n_outliers = outliers.shape[0]\n",
    "        total_outliers += n_outliers\n",
    "\n",
    "        if n_outliers > 0:\n",
    "            columns_with_outliers.append(col)\n",
    "            print(f\"Terdapat {n_outliers} outlier pada kolom '{col}'.\")\n",
    "        else:\n",
    "            print(f\"Tidak ditemukan outlier pada kolom '{col}'.\")\n",
    "\n",
    "    if total_outliers > 0:\n",
    "        print(f\"\\nTotal outlier yang terdeteksi: {total_outliers}. Akan dilakukan clipping ke persentil 5% dan 95%.\")\n",
    "        for col in columns_with_outliers:\n",
    "            print(f\"Menangani outlier pada kolom '{col}' dengan clipping...\")\n",
    "            lower = dataframe[col].quantile(0.05)\n",
    "            upper = dataframe[col].quantile(0.95)\n",
    "            df_no_outlier[col] = dataframe[col].clip(lower=lower, upper=upper)\n",
    "        print(\"Penanganan outlier selesai.\\n\")\n",
    "    else:\n",
    "        print(\"\\nTidak ada outlier yang perlu ditangani.\")\n",
    "\n",
    "    print(\"Boxplot setelah penanganan outlier:\")\n",
    "    plot_boxplots(df_no_outlier, before_outlier=False)\n",
    "    \n",
    "    return df_no_outlier\n"
   ]
  },
  {
   "cell_type": "code",
   "execution_count": 296,
   "id": "81dcf7b7",
   "metadata": {},
   "outputs": [
    {
     "name": "stdout",
     "output_type": "stream",
     "text": [
      "Kolom numerik yang akan diperiksa: Age, Avg_Daily_Usage_Hours, Sleep_Hours_Per_Night, Mental_Health_Score, Conflicts_Over_Social_Media, Addicted_Score\n",
      "Boxplot sebelum deteksi outlier:\n"
     ]
    },
    {
     "data": {
      "image/png": "[encoded data removed]",
      "text/plain": [
       "<Figure size 1200x300 with 1 Axes>"
      ]
     },
     "metadata": {},
     "output_type": "display_data"
    },
    {
     "name": "stdout",
     "output_type": "stream",
     "text": [
      "Mendeteksi outlier menggunakan metode IQR...\n",
      "Tidak ditemukan outlier pada kolom 'Age'.\n",
      "Terdapat 3 outlier pada kolom 'Avg_Daily_Usage_Hours'.\n",
      "Tidak ditemukan outlier pada kolom 'Sleep_Hours_Per_Night'.\n",
      "Tidak ditemukan outlier pada kolom 'Mental_Health_Score'.\n",
      "Tidak ditemukan outlier pada kolom 'Conflicts_Over_Social_Media'.\n",
      "Tidak ditemukan outlier pada kolom 'Addicted_Score'.\n",
      "\n",
      "Total outlier yang terdeteksi: 3. Akan dilakukan clipping ke persentil 5% dan 95%.\n",
      "Menangani outlier pada kolom 'Avg_Daily_Usage_Hours' dengan clipping...\n",
      "Penanganan outlier selesai.\n",
      "\n",
      "Boxplot setelah penanganan outlier:\n"
     ]
    },
    {
     "data": {
      "image/png": "[encoded data removed]",
      "text/plain": [
       "<Figure size 1200x300 with 1 Axes>"
      ]
     },
     "metadata": {},
     "output_type": "display_data"
    }
   ],
   "source": [
    "df_kecil = handle_outliers_iqr(df_kecil)"
   ]
  },
  {
   "cell_type": "markdown",
   "id": "02d131e4",
   "metadata": {},
   "source": [
    "- Ubah Data Kategori ke Numerik"
   ]
  },
  {
   "cell_type": "code",
   "execution_count": 297,
   "id": "254e9208",
   "metadata": {},
   "outputs": [],
   "source": [
    "def encode_categorical_columns(dataframe: pd.DataFrame) -> pd.DataFrame:\n",
    "    \"\"\"\n",
    "    Melakukan encoding pada kolom kategorikal menggunakan one-hot encoding.\n",
    "\n",
    "    Parameter:\n",
    "    ----------\n",
    "    dataframe : DataFrame\n",
    "        DataFrame yang akan diproses.\n",
    "\n",
    "    Return:\n",
    "    -------\n",
    "    DataFrame\n",
    "        DataFrame baru dengan kolom kategorikal yang sudah di-encode.\n",
    "    \"\"\"\n",
    "    categorical_columns = dataframe.select_dtypes(include=['object']).columns\n",
    "    if categorical_columns.empty:\n",
    "        print(\"Tidak ada kolom kategorikal untuk di-encode.\")\n",
    "        return dataframe\n",
    "\n",
    "    print(\"Kolom kategorikal sebelum encoding:\")\n",
    "    display(dataframe[categorical_columns].head())\n",
    "    print(f\"Kolom kategorikal yang akan di-encode: {', '.join(categorical_columns)}\")\n",
    "    df_encoded = pd.get_dummies(dataframe, columns=categorical_columns, drop_first=True)\n",
    "    df_encoded = df_encoded.astype(int)\n",
    "    print(\"Encoding selesai.\\n\")\n",
    "    print(\"Kolom kategorikal setelah encoding:\")\n",
    "    display(df_encoded.head())\n",
    "    \n",
    "    return df_encoded"
   ]
  },
  {
   "cell_type": "code",
   "execution_count": 298,
   "id": "f4a0f7f2",
   "metadata": {},
   "outputs": [
    {
     "name": "stdout",
     "output_type": "stream",
     "text": [
      "Kolom kategorikal sebelum encoding:\n"
     ]
    },
    {
     "data": {
      "application/vnd.microsoft.datawrangler.viewer.v0+json": {
       "columns": [
        {
         "name": "index",
         "rawType": "int64",
         "type": "integer"
        },
        {
         "name": "Gender",
         "rawType": "object",
         "type": "string"
        },
        {
         "name": "Academic_Level",
         "rawType": "object",
         "type": "string"
        },
        {
         "name": "Country",
         "rawType": "object",
         "type": "string"
        },
        {
         "name": "Most_Used_Platform",
         "rawType": "object",
         "type": "string"
        },
        {
         "name": "Affects_Academic_Performance",
         "rawType": "object",
         "type": "string"
        },
        {
         "name": "Relationship_Status",
         "rawType": "object",
         "type": "string"
        }
       ],
       "conversionMethod": "pd.DataFrame",
       "ref": "fd50c763-5057-4c5d-b3a8-c2b4ce7829e3",
       "rows": [
        [
         "0",
         "Female",
         "Undergraduate",
         "Bangladesh",
         "Instagram",
         "Yes",
         "In Relationship"
        ],
        [
         "1",
         "Male",
         "Graduate",
         "India",
         "Twitter",
         "No",
         "Single"
        ],
        [
         "2",
         "Female",
         "Undergraduate",
         "USA",
         "TikTok",
         "Yes",
         "Complicated"
        ],
        [
         "3",
         "Male",
         "High School",
         "UK",
         "YouTube",
         "No",
         "Single"
        ],
        [
         "4",
         "Male",
         "Graduate",
         "Canada",
         "Facebook",
         "Yes",
         "In Relationship"
        ]
       ],
       "shape": {
        "columns": 6,
        "rows": 5
       }
      },
      "text/html": [
       "<div>\n",
       "<style scoped>\n",
       "    .dataframe tbody tr th:only-of-type {\n",
       "        vertical-align: middle;\n",
       "    }\n",
       "\n",
       "    .dataframe tbody tr th {\n",
       "        vertical-align: top;\n",
       "    }\n",
       "\n",
       "    .dataframe thead th {\n",
       "        text-align: right;\n",
       "    }\n",
       "</style>\n",
       "<table border=\"1\" class=\"dataframe\">\n",
       "  <thead>\n",
       "    <tr style=\"text-align: right;\">\n",
       "      <th></th>\n",
       "      <th>Gender</th>\n",
       "      <th>Academic_Level</th>\n",
       "      <th>Country</th>\n",
       "      <th>Most_Used_Platform</th>\n",
       "      <th>Affects_Academic_Performance</th>\n",
       "      <th>Relationship_Status</th>\n",
       "    </tr>\n",
       "  </thead>\n",
       "  <tbody>\n",
       "    <tr>\n",
       "      <th>0</th>\n",
       "      <td>Female</td>\n",
       "      <td>Undergraduate</td>\n",
       "      <td>Bangladesh</td>\n",
       "      <td>Instagram</td>\n",
       "      <td>Yes</td>\n",
       "      <td>In Relationship</td>\n",
       "    </tr>\n",
       "    <tr>\n",
       "      <th>1</th>\n",
       "      <td>Male</td>\n",
       "      <td>Graduate</td>\n",
       "      <td>India</td>\n",
       "      <td>Twitter</td>\n",
       "      <td>No</td>\n",
       "      <td>Single</td>\n",
       "    </tr>\n",
       "    <tr>\n",
       "      <th>2</th>\n",
       "      <td>Female</td>\n",
       "      <td>Undergraduate</td>\n",
       "      <td>USA</td>\n",
       "      <td>TikTok</td>\n",
       "      <td>Yes</td>\n",
       "      <td>Complicated</td>\n",
       "    </tr>\n",
       "    <tr>\n",
       "      <th>3</th>\n",
       "      <td>Male</td>\n",
       "      <td>High School</td>\n",
       "      <td>UK</td>\n",
       "      <td>YouTube</td>\n",
       "      <td>No</td>\n",
       "      <td>Single</td>\n",
       "    </tr>\n",
       "    <tr>\n",
       "      <th>4</th>\n",
       "      <td>Male</td>\n",
       "      <td>Graduate</td>\n",
       "      <td>Canada</td>\n",
       "      <td>Facebook</td>\n",
       "      <td>Yes</td>\n",
       "      <td>In Relationship</td>\n",
       "    </tr>\n",
       "  </tbody>\n",
       "</table>\n",
       "</div>"
      ],
      "text/plain": [
       "   Gender Academic_Level     Country Most_Used_Platform  \\\n",
       "0  Female  Undergraduate  Bangladesh          Instagram   \n",
       "1    Male       Graduate       India            Twitter   \n",
       "2  Female  Undergraduate         USA             TikTok   \n",
       "3    Male    High School          UK            YouTube   \n",
       "4    Male       Graduate      Canada           Facebook   \n",
       "\n",
       "  Affects_Academic_Performance Relationship_Status  \n",
       "0                          Yes     In Relationship  \n",
       "1                           No              Single  \n",
       "2                          Yes         Complicated  \n",
       "3                           No              Single  \n",
       "4                          Yes     In Relationship  "
      ]
     },
     "metadata": {},
     "output_type": "display_data"
    },
    {
     "name": "stdout",
     "output_type": "stream",
     "text": [
      "Kolom kategorikal yang akan di-encode: Gender, Academic_Level, Country, Most_Used_Platform, Affects_Academic_Performance, Relationship_Status\n",
      "Encoding selesai.\n",
      "\n",
      "Kolom kategorikal setelah encoding:\n"
     ]
    },
    {
     "data": {
      "application/vnd.microsoft.datawrangler.viewer.v0+json": {
       "columns": [
        {
         "name": "index",
         "rawType": "int64",
         "type": "integer"
        },
        {
         "name": "Age",
         "rawType": "int64",
         "type": "integer"
        },
        {
         "name": "Avg_Daily_Usage_Hours",
         "rawType": "int64",
         "type": "integer"
        },
        {
         "name": "Sleep_Hours_Per_Night",
         "rawType": "int64",
         "type": "integer"
        },
        {
         "name": "Mental_Health_Score",
         "rawType": "int64",
         "type": "integer"
        },
        {
         "name": "Conflicts_Over_Social_Media",
         "rawType": "int64",
         "type": "integer"
        },
        {
         "name": "Addicted_Score",
         "rawType": "int64",
         "type": "integer"
        },
        {
         "name": "Gender_Male",
         "rawType": "int64",
         "type": "integer"
        },
        {
         "name": "Academic_Level_High School",
         "rawType": "int64",
         "type": "integer"
        },
        {
         "name": "Academic_Level_Undergraduate",
         "rawType": "int64",
         "type": "integer"
        },
        {
         "name": "Country_Albania",
         "rawType": "int64",
         "type": "integer"
        },
        {
         "name": "Country_Andorra",
         "rawType": "int64",
         "type": "integer"
        },
        {
         "name": "Country_Argentina",
         "rawType": "int64",
         "type": "integer"
        },
        {
         "name": "Country_Armenia",
         "rawType": "int64",
         "type": "integer"
        },
        {
         "name": "Country_Australia",
         "rawType": "int64",
         "type": "integer"
        },
        {
         "name": "Country_Austria",
         "rawType": "int64",
         "type": "integer"
        },
        {
         "name": "Country_Azerbaijan",
         "rawType": "int64",
         "type": "integer"
        },
        {
         "name": "Country_Bahamas",
         "rawType": "int64",
         "type": "integer"
        },
        {
         "name": "Country_Bahrain",
         "rawType": "int64",
         "type": "integer"
        },
        {
         "name": "Country_Bangladesh",
         "rawType": "int64",
         "type": "integer"
        },
        {
         "name": "Country_Belarus",
         "rawType": "int64",
         "type": "integer"
        },
        {
         "name": "Country_Belgium",
         "rawType": "int64",
         "type": "integer"
        },
        {
         "name": "Country_Bhutan",
         "rawType": "int64",
         "type": "integer"
        },
        {
         "name": "Country_Bolivia",
         "rawType": "int64",
         "type": "integer"
        },
        {
         "name": "Country_Bosnia",
         "rawType": "int64",
         "type": "integer"
        },
        {
         "name": "Country_Brazil",
         "rawType": "int64",
         "type": "integer"
        },
        {
         "name": "Country_Bulgaria",
         "rawType": "int64",
         "type": "integer"
        },
        {
         "name": "Country_Canada",
         "rawType": "int64",
         "type": "integer"
        },
        {
         "name": "Country_Chile",
         "rawType": "int64",
         "type": "integer"
        },
        {
         "name": "Country_China",
         "rawType": "int64",
         "type": "integer"
        },
        {
         "name": "Country_Colombia",
         "rawType": "int64",
         "type": "integer"
        },
        {
         "name": "Country_Costa Rica",
         "rawType": "int64",
         "type": "integer"
        },
        {
         "name": "Country_Croatia",
         "rawType": "int64",
         "type": "integer"
        },
        {
         "name": "Country_Cyprus",
         "rawType": "int64",
         "type": "integer"
        },
        {
         "name": "Country_Czech Republic",
         "rawType": "int64",
         "type": "integer"
        },
        {
         "name": "Country_Denmark",
         "rawType": "int64",
         "type": "integer"
        },
        {
         "name": "Country_Ecuador",
         "rawType": "int64",
         "type": "integer"
        },
        {
         "name": "Country_Egypt",
         "rawType": "int64",
         "type": "integer"
        },
        {
         "name": "Country_Estonia",
         "rawType": "int64",
         "type": "integer"
        },
        {
         "name": "Country_Finland",
         "rawType": "int64",
         "type": "integer"
        },
        {
         "name": "Country_France",
         "rawType": "int64",
         "type": "integer"
        },
        {
         "name": "Country_Georgia",
         "rawType": "int64",
         "type": "integer"
        },
        {
         "name": "Country_Germany",
         "rawType": "int64",
         "type": "integer"
        },
        {
         "name": "Country_Ghana",
         "rawType": "int64",
         "type": "integer"
        },
        {
         "name": "Country_Greece",
         "rawType": "int64",
         "type": "integer"
        },
        {
         "name": "Country_Hong Kong",
         "rawType": "int64",
         "type": "integer"
        },
        {
         "name": "Country_Hungary",
         "rawType": "int64",
         "type": "integer"
        },
        {
         "name": "Country_Iceland",
         "rawType": "int64",
         "type": "integer"
        },
        {
         "name": "Country_India",
         "rawType": "int64",
         "type": "integer"
        },
        {
         "name": "Country_Indonesia",
         "rawType": "int64",
         "type": "integer"
        },
        {
         "name": "Country_Iraq",
         "rawType": "int64",
         "type": "integer"
        },
        {
         "name": "Country_Ireland",
         "rawType": "int64",
         "type": "integer"
        },
        {
         "name": "Country_Israel",
         "rawType": "int64",
         "type": "integer"
        },
        {
         "name": "Country_Italy",
         "rawType": "int64",
         "type": "integer"
        },
        {
         "name": "Country_Jamaica",
         "rawType": "int64",
         "type": "integer"
        },
        {
         "name": "Country_Japan",
         "rawType": "int64",
         "type": "integer"
        },
        {
         "name": "Country_Jordan",
         "rawType": "int64",
         "type": "integer"
        },
        {
         "name": "Country_Kazakhstan",
         "rawType": "int64",
         "type": "integer"
        },
        {
         "name": "Country_Kenya",
         "rawType": "int64",
         "type": "integer"
        },
        {
         "name": "Country_Kosovo",
         "rawType": "int64",
         "type": "integer"
        },
        {
         "name": "Country_Kuwait",
         "rawType": "int64",
         "type": "integer"
        },
        {
         "name": "Country_Kyrgyzstan",
         "rawType": "int64",
         "type": "integer"
        },
        {
         "name": "Country_Latvia",
         "rawType": "int64",
         "type": "integer"
        },
        {
         "name": "Country_Lebanon",
         "rawType": "int64",
         "type": "integer"
        },
        {
         "name": "Country_Liechtenstein",
         "rawType": "int64",
         "type": "integer"
        },
        {
         "name": "Country_Lithuania",
         "rawType": "int64",
         "type": "integer"
        },
        {
         "name": "Country_Luxembourg",
         "rawType": "int64",
         "type": "integer"
        },
        {
         "name": "Country_Malaysia",
         "rawType": "int64",
         "type": "integer"
        },
        {
         "name": "Country_Maldives",
         "rawType": "int64",
         "type": "integer"
        },
        {
         "name": "Country_Malta",
         "rawType": "int64",
         "type": "integer"
        },
        {
         "name": "Country_Mexico",
         "rawType": "int64",
         "type": "integer"
        },
        {
         "name": "Country_Moldova",
         "rawType": "int64",
         "type": "integer"
        },
        {
         "name": "Country_Monaco",
         "rawType": "int64",
         "type": "integer"
        },
        {
         "name": "Country_Montenegro",
         "rawType": "int64",
         "type": "integer"
        },
        {
         "name": "Country_Morocco",
         "rawType": "int64",
         "type": "integer"
        },
        {
         "name": "Country_Nepal",
         "rawType": "int64",
         "type": "integer"
        },
        {
         "name": "Country_Netherlands",
         "rawType": "int64",
         "type": "integer"
        },
        {
         "name": "Country_New Zealand",
         "rawType": "int64",
         "type": "integer"
        },
        {
         "name": "Country_Nigeria",
         "rawType": "int64",
         "type": "integer"
        },
        {
         "name": "Country_North Macedonia",
         "rawType": "int64",
         "type": "integer"
        },
        {
         "name": "Country_Norway",
         "rawType": "int64",
         "type": "integer"
        },
        {
         "name": "Country_Oman",
         "rawType": "int64",
         "type": "integer"
        },
        {
         "name": "Country_Pakistan",
         "rawType": "int64",
         "type": "integer"
        },
        {
         "name": "Country_Panama",
         "rawType": "int64",
         "type": "integer"
        },
        {
         "name": "Country_Paraguay",
         "rawType": "int64",
         "type": "integer"
        },
        {
         "name": "Country_Peru",
         "rawType": "int64",
         "type": "integer"
        },
        {
         "name": "Country_Philippines",
         "rawType": "int64",
         "type": "integer"
        },
        {
         "name": "Country_Poland",
         "rawType": "int64",
         "type": "integer"
        },
        {
         "name": "Country_Portugal",
         "rawType": "int64",
         "type": "integer"
        },
        {
         "name": "Country_Qatar",
         "rawType": "int64",
         "type": "integer"
        },
        {
         "name": "Country_Romania",
         "rawType": "int64",
         "type": "integer"
        },
        {
         "name": "Country_Russia",
         "rawType": "int64",
         "type": "integer"
        },
        {
         "name": "Country_San Marino",
         "rawType": "int64",
         "type": "integer"
        },
        {
         "name": "Country_Serbia",
         "rawType": "int64",
         "type": "integer"
        },
        {
         "name": "Country_Singapore",
         "rawType": "int64",
         "type": "integer"
        },
        {
         "name": "Country_Slovakia",
         "rawType": "int64",
         "type": "integer"
        },
        {
         "name": "Country_Slovenia",
         "rawType": "int64",
         "type": "integer"
        },
        {
         "name": "Country_South Africa",
         "rawType": "int64",
         "type": "integer"
        },
        {
         "name": "Country_South Korea",
         "rawType": "int64",
         "type": "integer"
        },
        {
         "name": "Country_Spain",
         "rawType": "int64",
         "type": "integer"
        },
        {
         "name": "Country_Sri Lanka",
         "rawType": "int64",
         "type": "integer"
        },
        {
         "name": "Country_Sweden",
         "rawType": "int64",
         "type": "integer"
        },
        {
         "name": "Country_Switzerland",
         "rawType": "int64",
         "type": "integer"
        },
        {
         "name": "Country_Syria",
         "rawType": "int64",
         "type": "integer"
        },
        {
         "name": "Country_Taiwan",
         "rawType": "int64",
         "type": "integer"
        },
        {
         "name": "Country_Tajikistan",
         "rawType": "int64",
         "type": "integer"
        },
        {
         "name": "Country_Thailand",
         "rawType": "int64",
         "type": "integer"
        },
        {
         "name": "Country_Trinidad",
         "rawType": "int64",
         "type": "integer"
        },
        {
         "name": "Country_Turkey",
         "rawType": "int64",
         "type": "integer"
        },
        {
         "name": "Country_UAE",
         "rawType": "int64",
         "type": "integer"
        },
        {
         "name": "Country_UK",
         "rawType": "int64",
         "type": "integer"
        },
        {
         "name": "Country_USA",
         "rawType": "int64",
         "type": "integer"
        },
        {
         "name": "Country_Ukraine",
         "rawType": "int64",
         "type": "integer"
        },
        {
         "name": "Country_Uruguay",
         "rawType": "int64",
         "type": "integer"
        },
        {
         "name": "Country_Uzbekistan",
         "rawType": "int64",
         "type": "integer"
        },
        {
         "name": "Country_Vatican City",
         "rawType": "int64",
         "type": "integer"
        },
        {
         "name": "Country_Venezuela",
         "rawType": "int64",
         "type": "integer"
        },
        {
         "name": "Country_Vietnam",
         "rawType": "int64",
         "type": "integer"
        },
        {
         "name": "Country_Yemen",
         "rawType": "int64",
         "type": "integer"
        },
        {
         "name": "Most_Used_Platform_Instagram",
         "rawType": "int64",
         "type": "integer"
        },
        {
         "name": "Most_Used_Platform_KakaoTalk",
         "rawType": "int64",
         "type": "integer"
        },
        {
         "name": "Most_Used_Platform_LINE",
         "rawType": "int64",
         "type": "integer"
        },
        {
         "name": "Most_Used_Platform_LinkedIn",
         "rawType": "int64",
         "type": "integer"
        },
        {
         "name": "Most_Used_Platform_Snapchat",
         "rawType": "int64",
         "type": "integer"
        },
        {
         "name": "Most_Used_Platform_TikTok",
         "rawType": "int64",
         "type": "integer"
        },
        {
         "name": "Most_Used_Platform_Twitter",
         "rawType": "int64",
         "type": "integer"
        },
        {
         "name": "Most_Used_Platform_VKontakte",
         "rawType": "int64",
         "type": "integer"
        },
        {
         "name": "Most_Used_Platform_WeChat",
         "rawType": "int64",
         "type": "integer"
        },
        {
         "name": "Most_Used_Platform_WhatsApp",
         "rawType": "int64",
         "type": "integer"
        },
        {
         "name": "Most_Used_Platform_YouTube",
         "rawType": "int64",
         "type": "integer"
        },
        {
         "name": "Affects_Academic_Performance_Yes",
         "rawType": "int64",
         "type": "integer"
        },
        {
         "name": "Relationship_Status_In Relationship",
         "rawType": "int64",
         "type": "integer"
        },
        {
         "name": "Relationship_Status_Single",
         "rawType": "int64",
         "type": "integer"
        }
       ],
       "conversionMethod": "pd.DataFrame",
       "ref": "64ecdbaa-e2df-4cb8-8266-8e3b21390b78",
       "rows": [
        [
         "0",
         "19",
         "5",
         "6",
         "6",
         "3",
         "8",
         "0",
         "0",
         "1",
         "0",
         "0",
         "0",
         "0",
         "0",
         "0",
         "0",
         "0",
         "0",
         "1",
         "0",
         "0",
         "0",
         "0",
         "0",
         "0",
         "0",
         "0",
         "0",
         "0",
         "0",
         "0",
         "0",
         "0",
         "0",
         "0",
         "0",
         "0",
         "0",
         "0",
         "0",
         "0",
         "0",
         "0",
         "0",
         "0",
         "0",
         "0",
         "0",
         "0",
         "0",
         "0",
         "0",
         "0",
         "0",
         "0",
         "0",
         "0",
         "0",
         "0",
         "0",
         "0",
         "0",
         "0",
         "0",
         "0",
         "0",
         "0",
         "0",
         "0",
         "0",
         "0",
         "0",
         "0",
         "0",
         "0",
         "0",
         "0",
         "0",
         "0",
         "0",
         "0",
         "0",
         "0",
         "0",
         "0",
         "0",
         "0",
         "0",
         "0",
         "0",
         "0",
         "0",
         "0",
         "0",
         "0",
         "0",
         "0",
         "0",
         "0",
         "0",
         "0",
         "0",
         "0",
         "0",
         "0",
         "0",
         "0",
         "0",
         "0",
         "0",
         "0",
         "0",
         "0",
         "0",
         "0",
         "0",
         "0",
         "0",
         "1",
         "0",
         "0",
         "0",
         "0",
         "0",
         "0",
         "0",
         "0",
         "0",
         "0",
         "1",
         "1",
         "0"
        ],
        [
         "1",
         "22",
         "2",
         "7",
         "8",
         "0",
         "3",
         "1",
         "0",
         "0",
         "0",
         "0",
         "0",
         "0",
         "0",
         "0",
         "0",
         "0",
         "0",
         "0",
         "0",
         "0",
         "0",
         "0",
         "0",
         "0",
         "0",
         "0",
         "0",
         "0",
         "0",
         "0",
         "0",
         "0",
         "0",
         "0",
         "0",
         "0",
         "0",
         "0",
         "0",
         "0",
         "0",
         "0",
         "0",
         "0",
         "0",
         "0",
         "1",
         "0",
         "0",
         "0",
         "0",
         "0",
         "0",
         "0",
         "0",
         "0",
         "0",
         "0",
         "0",
         "0",
         "0",
         "0",
         "0",
         "0",
         "0",
         "0",
         "0",
         "0",
         "0",
         "0",
         "0",
         "0",
         "0",
         "0",
         "0",
         "0",
         "0",
         "0",
         "0",
         "0",
         "0",
         "0",
         "0",
         "0",
         "0",
         "0",
         "0",
         "0",
         "0",
         "0",
         "0",
         "0",
         "0",
         "0",
         "0",
         "0",
         "0",
         "0",
         "0",
         "0",
         "0",
         "0",
         "0",
         "0",
         "0",
         "0",
         "0",
         "0",
         "0",
         "0",
         "0",
         "0",
         "0",
         "0",
         "0",
         "0",
         "0",
         "0",
         "0",
         "0",
         "0",
         "0",
         "0",
         "1",
         "0",
         "0",
         "0",
         "0",
         "0",
         "0",
         "1"
        ],
        [
         "2",
         "20",
         "6",
         "5",
         "5",
         "4",
         "9",
         "0",
         "0",
         "1",
         "0",
         "0",
         "0",
         "0",
         "0",
         "0",
         "0",
         "0",
         "0",
         "0",
         "0",
         "0",
         "0",
         "0",
         "0",
         "0",
         "0",
         "0",
         "0",
         "0",
         "0",
         "0",
         "0",
         "0",
         "0",
         "0",
         "0",
         "0",
         "0",
         "0",
         "0",
         "0",
         "0",
         "0",
         "0",
         "0",
         "0",
         "0",
         "0",
         "0",
         "0",
         "0",
         "0",
         "0",
         "0",
         "0",
         "0",
         "0",
         "0",
         "0",
         "0",
         "0",
         "0",
         "0",
         "0",
         "0",
         "0",
         "0",
         "0",
         "0",
         "0",
         "0",
         "0",
         "0",
         "0",
         "0",
         "0",
         "0",
         "0",
         "0",
         "0",
         "0",
         "0",
         "0",
         "0",
         "0",
         "0",
         "0",
         "0",
         "0",
         "0",
         "0",
         "0",
         "0",
         "0",
         "0",
         "0",
         "0",
         "0",
         "0",
         "0",
         "0",
         "0",
         "0",
         "0",
         "0",
         "0",
         "0",
         "0",
         "0",
         "0",
         "1",
         "0",
         "0",
         "0",
         "0",
         "0",
         "0",
         "0",
         "0",
         "0",
         "0",
         "0",
         "0",
         "1",
         "0",
         "0",
         "0",
         "0",
         "0",
         "1",
         "0",
         "0"
        ],
        [
         "3",
         "18",
         "3",
         "7",
         "7",
         "1",
         "4",
         "1",
         "1",
         "0",
         "0",
         "0",
         "0",
         "0",
         "0",
         "0",
         "0",
         "0",
         "0",
         "0",
         "0",
         "0",
         "0",
         "0",
         "0",
         "0",
         "0",
         "0",
         "0",
         "0",
         "0",
         "0",
         "0",
         "0",
         "0",
         "0",
         "0",
         "0",
         "0",
         "0",
         "0",
         "0",
         "0",
         "0",
         "0",
         "0",
         "0",
         "0",
         "0",
         "0",
         "0",
         "0",
         "0",
         "0",
         "0",
         "0",
         "0",
         "0",
         "0",
         "0",
         "0",
         "0",
         "0",
         "0",
         "0",
         "0",
         "0",
         "0",
         "0",
         "0",
         "0",
         "0",
         "0",
         "0",
         "0",
         "0",
         "0",
         "0",
         "0",
         "0",
         "0",
         "0",
         "0",
         "0",
         "0",
         "0",
         "0",
         "0",
         "0",
         "0",
         "0",
         "0",
         "0",
         "0",
         "0",
         "0",
         "0",
         "0",
         "0",
         "0",
         "0",
         "0",
         "0",
         "0",
         "0",
         "0",
         "0",
         "0",
         "0",
         "0",
         "1",
         "0",
         "0",
         "0",
         "0",
         "0",
         "0",
         "0",
         "0",
         "0",
         "0",
         "0",
         "0",
         "0",
         "0",
         "0",
         "0",
         "0",
         "0",
         "1",
         "0",
         "0",
         "1"
        ],
        [
         "4",
         "21",
         "4",
         "6",
         "6",
         "2",
         "7",
         "1",
         "0",
         "0",
         "0",
         "0",
         "0",
         "0",
         "0",
         "0",
         "0",
         "0",
         "0",
         "0",
         "0",
         "0",
         "0",
         "0",
         "0",
         "0",
         "0",
         "1",
         "0",
         "0",
         "0",
         "0",
         "0",
         "0",
         "0",
         "0",
         "0",
         "0",
         "0",
         "0",
         "0",
         "0",
         "0",
         "0",
         "0",
         "0",
         "0",
         "0",
         "0",
         "0",
         "0",
         "0",
         "0",
         "0",
         "0",
         "0",
         "0",
         "0",
         "0",
         "0",
         "0",
         "0",
         "0",
         "0",
         "0",
         "0",
         "0",
         "0",
         "0",
         "0",
         "0",
         "0",
         "0",
         "0",
         "0",
         "0",
         "0",
         "0",
         "0",
         "0",
         "0",
         "0",
         "0",
         "0",
         "0",
         "0",
         "0",
         "0",
         "0",
         "0",
         "0",
         "0",
         "0",
         "0",
         "0",
         "0",
         "0",
         "0",
         "0",
         "0",
         "0",
         "0",
         "0",
         "0",
         "0",
         "0",
         "0",
         "0",
         "0",
         "0",
         "0",
         "0",
         "0",
         "0",
         "0",
         "0",
         "0",
         "0",
         "0",
         "0",
         "0",
         "0",
         "0",
         "0",
         "0",
         "0",
         "0",
         "0",
         "0",
         "0",
         "1",
         "1",
         "0"
        ]
       ],
       "shape": {
        "columns": 132,
        "rows": 5
       }
      },
      "text/html": [
       "<div>\n",
       "<style scoped>\n",
       "    .dataframe tbody tr th:only-of-type {\n",
       "        vertical-align: middle;\n",
       "    }\n",
       "\n",
       "    .dataframe tbody tr th {\n",
       "        vertical-align: top;\n",
       "    }\n",
       "\n",
       "    .dataframe thead th {\n",
       "        text-align: right;\n",
       "    }\n",
       "</style>\n",
       "<table border=\"1\" class=\"dataframe\">\n",
       "  <thead>\n",
       "    <tr style=\"text-align: right;\">\n",
       "      <th></th>\n",
       "      <th>Age</th>\n",
       "      <th>Avg_Daily_Usage_Hours</th>\n",
       "      <th>Sleep_Hours_Per_Night</th>\n",
       "      <th>Mental_Health_Score</th>\n",
       "      <th>Conflicts_Over_Social_Media</th>\n",
       "      <th>Addicted_Score</th>\n",
       "      <th>Gender_Male</th>\n",
       "      <th>Academic_Level_High School</th>\n",
       "      <th>Academic_Level_Undergraduate</th>\n",
       "      <th>Country_Albania</th>\n",
       "      <th>...</th>\n",
       "      <th>Most_Used_Platform_Snapchat</th>\n",
       "      <th>Most_Used_Platform_TikTok</th>\n",
       "      <th>Most_Used_Platform_Twitter</th>\n",
       "      <th>Most_Used_Platform_VKontakte</th>\n",
       "      <th>Most_Used_Platform_WeChat</th>\n",
       "      <th>Most_Used_Platform_WhatsApp</th>\n",
       "      <th>Most_Used_Platform_YouTube</th>\n",
       "      <th>Affects_Academic_Performance_Yes</th>\n",
       "      <th>Relationship_Status_In Relationship</th>\n",
       "      <th>Relationship_Status_Single</th>\n",
       "    </tr>\n",
       "  </thead>\n",
       "  <tbody>\n",
       "    <tr>\n",
       "      <th>0</th>\n",
       "      <td>19</td>\n",
       "      <td>5</td>\n",
       "      <td>6</td>\n",
       "      <td>6</td>\n",
       "      <td>3</td>\n",
       "      <td>8</td>\n",
       "      <td>0</td>\n",
       "      <td>0</td>\n",
       "      <td>1</td>\n",
       "      <td>0</td>\n",
       "      <td>...</td>\n",
       "      <td>0</td>\n",
       "      <td>0</td>\n",
       "      <td>0</td>\n",
       "      <td>0</td>\n",
       "      <td>0</td>\n",
       "      <td>0</td>\n",
       "      <td>0</td>\n",
       "      <td>1</td>\n",
       "      <td>1</td>\n",
       "      <td>0</td>\n",
       "    </tr>\n",
       "    <tr>\n",
       "      <th>1</th>\n",
       "      <td>22</td>\n",
       "      <td>2</td>\n",
       "      <td>7</td>\n",
       "      <td>8</td>\n",
       "      <td>0</td>\n",
       "      <td>3</td>\n",
       "      <td>1</td>\n",
       "      <td>0</td>\n",
       "      <td>0</td>\n",
       "      <td>0</td>\n",
       "      <td>...</td>\n",
       "      <td>0</td>\n",
       "      <td>0</td>\n",
       "      <td>1</td>\n",
       "      <td>0</td>\n",
       "      <td>0</td>\n",
       "      <td>0</td>\n",
       "      <td>0</td>\n",
       "      <td>0</td>\n",
       "      <td>0</td>\n",
       "      <td>1</td>\n",
       "    </tr>\n",
       "    <tr>\n",
       "      <th>2</th>\n",
       "      <td>20</td>\n",
       "      <td>6</td>\n",
       "      <td>5</td>\n",
       "      <td>5</td>\n",
       "      <td>4</td>\n",
       "      <td>9</td>\n",
       "      <td>0</td>\n",
       "      <td>0</td>\n",
       "      <td>1</td>\n",
       "      <td>0</td>\n",
       "      <td>...</td>\n",
       "      <td>0</td>\n",
       "      <td>1</td>\n",
       "      <td>0</td>\n",
       "      <td>0</td>\n",
       "      <td>0</td>\n",
       "      <td>0</td>\n",
       "      <td>0</td>\n",
       "      <td>1</td>\n",
       "      <td>0</td>\n",
       "      <td>0</td>\n",
       "    </tr>\n",
       "    <tr>\n",
       "      <th>3</th>\n",
       "      <td>18</td>\n",
       "      <td>3</td>\n",
       "      <td>7</td>\n",
       "      <td>7</td>\n",
       "      <td>1</td>\n",
       "      <td>4</td>\n",
       "      <td>1</td>\n",
       "      <td>1</td>\n",
       "      <td>0</td>\n",
       "      <td>0</td>\n",
       "      <td>...</td>\n",
       "      <td>0</td>\n",
       "      <td>0</td>\n",
       "      <td>0</td>\n",
       "      <td>0</td>\n",
       "      <td>0</td>\n",
       "      <td>0</td>\n",
       "      <td>1</td>\n",
       "      <td>0</td>\n",
       "      <td>0</td>\n",
       "      <td>1</td>\n",
       "    </tr>\n",
       "    <tr>\n",
       "      <th>4</th>\n",
       "      <td>21</td>\n",
       "      <td>4</td>\n",
       "      <td>6</td>\n",
       "      <td>6</td>\n",
       "      <td>2</td>\n",
       "      <td>7</td>\n",
       "      <td>1</td>\n",
       "      <td>0</td>\n",
       "      <td>0</td>\n",
       "      <td>0</td>\n",
       "      <td>...</td>\n",
       "      <td>0</td>\n",
       "      <td>0</td>\n",
       "      <td>0</td>\n",
       "      <td>0</td>\n",
       "      <td>0</td>\n",
       "      <td>0</td>\n",
       "      <td>0</td>\n",
       "      <td>1</td>\n",
       "      <td>1</td>\n",
       "      <td>0</td>\n",
       "    </tr>\n",
       "  </tbody>\n",
       "</table>\n",
       "<p>5 rows × 132 columns</p>\n",
       "</div>"
      ],
      "text/plain": [
       "   Age  Avg_Daily_Usage_Hours  Sleep_Hours_Per_Night  Mental_Health_Score  \\\n",
       "0   19                      5                      6                    6   \n",
       "1   22                      2                      7                    8   \n",
       "2   20                      6                      5                    5   \n",
       "3   18                      3                      7                    7   \n",
       "4   21                      4                      6                    6   \n",
       "\n",
       "   Conflicts_Over_Social_Media  Addicted_Score  Gender_Male  \\\n",
       "0                            3               8            0   \n",
       "1                            0               3            1   \n",
       "2                            4               9            0   \n",
       "3                            1               4            1   \n",
       "4                            2               7            1   \n",
       "\n",
       "   Academic_Level_High School  Academic_Level_Undergraduate  Country_Albania  \\\n",
       "0                           0                             1                0   \n",
       "1                           0                             0                0   \n",
       "2                           0                             1                0   \n",
       "3                           1                             0                0   \n",
       "4                           0                             0                0   \n",
       "\n",
       "   ...  Most_Used_Platform_Snapchat  Most_Used_Platform_TikTok  \\\n",
       "0  ...                            0                          0   \n",
       "1  ...                            0                          0   \n",
       "2  ...                            0                          1   \n",
       "3  ...                            0                          0   \n",
       "4  ...                            0                          0   \n",
       "\n",
       "   Most_Used_Platform_Twitter  Most_Used_Platform_VKontakte  \\\n",
       "0                           0                             0   \n",
       "1                           1                             0   \n",
       "2                           0                             0   \n",
       "3                           0                             0   \n",
       "4                           0                             0   \n",
       "\n",
       "   Most_Used_Platform_WeChat  Most_Used_Platform_WhatsApp  \\\n",
       "0                          0                            0   \n",
       "1                          0                            0   \n",
       "2                          0                            0   \n",
       "3                          0                            0   \n",
       "4                          0                            0   \n",
       "\n",
       "   Most_Used_Platform_YouTube  Affects_Academic_Performance_Yes  \\\n",
       "0                           0                                 1   \n",
       "1                           0                                 0   \n",
       "2                           0                                 1   \n",
       "3                           1                                 0   \n",
       "4                           0                                 1   \n",
       "\n",
       "   Relationship_Status_In Relationship  Relationship_Status_Single  \n",
       "0                                    1                           0  \n",
       "1                                    0                           1  \n",
       "2                                    0                           0  \n",
       "3                                    0                           1  \n",
       "4                                    1                           0  \n",
       "\n",
       "[5 rows x 132 columns]"
      ]
     },
     "metadata": {},
     "output_type": "display_data"
    }
   ],
   "source": [
    "df_kecil = encode_categorical_columns(df_kecil)"
   ]
  },
  {
   "cell_type": "markdown",
   "id": "bd0f1b72",
   "metadata": {},
   "source": [
    "- Pastikan Semua Kolom Bertipe Numerik"
   ]
  },
  {
   "cell_type": "code",
   "execution_count": 299,
   "id": "c6bd2f04",
   "metadata": {},
   "outputs": [],
   "source": [
    "def check_data_all_numeric(df: pd.DataFrame) -> None:\n",
    "    \"\"\"\n",
    "    Cek apakah semua kolom dalam DataFrame bertipe numerik.\n",
    "    \n",
    "    Parameter:\n",
    "    ----------\n",
    "    df : DataFrame\n",
    "        DataFrame yang akan diperiksa.\n",
    "    \"\"\"\n",
    "    all_numeric = all(df[col].dtype.kind in 'biufc' for col in df.columns)\n",
    "    if all_numeric:\n",
    "        print(\"Semua kolom dalam DataFrame adalah numerik.\")\n",
    "    else:\n",
    "        print(\"Tidak semua kolom dalam DataFrame adalah numerik.\")"
   ]
  },
  {
   "cell_type": "code",
   "execution_count": 300,
   "id": "53d13ac0",
   "metadata": {},
   "outputs": [
    {
     "name": "stdout",
     "output_type": "stream",
     "text": [
      "Semua kolom dalam DataFrame adalah numerik.\n"
     ]
    }
   ],
   "source": [
    "check_data_all_numeric(df_kecil)"
   ]
  },
  {
   "cell_type": "markdown",
   "id": "8b4e5924",
   "metadata": {},
   "source": [
    "- 🔃 Tahap Normalisasi (Scaling)"
   ]
  },
  {
   "cell_type": "code",
   "execution_count": 301,
   "id": "87cef06e",
   "metadata": {},
   "outputs": [],
   "source": [
    "from sklearn.preprocessing import MinMaxScaler\n",
    "\n",
    "def normalize_minmax(dataframe: pd.DataFrame) -> pd.DataFrame:\n",
    "    \"\"\"\n",
    "    Melakukan normalisasi MinMaxScaler hanya pada kolom numerik\n",
    "    yang rentangnya lebih dari 0–1 (bukan hasil one-hot encoding).\n",
    "    \n",
    "    Parameter:\n",
    "    ----------\n",
    "    dataframe : DataFrame\n",
    "        DataFrame yang akan dinormalisasi.\n",
    "        \n",
    "    Return:\n",
    "    -------\n",
    "    DataFrame\n",
    "        DataFrame baru dengan kolom numerik yang sudah dinormalisasi.\n",
    "    \"\"\"\n",
    "    df_scaled = dataframe.copy()\n",
    "    \n",
    "    # Pilih kolom numerik\n",
    "    numeric_columns = df_scaled.select_dtypes(include=['float64', 'int64']).columns\n",
    "\n",
    "    # Deteksi kolom yang perlu dinormalisasi (rentang nilai lebih dari 1)\n",
    "    cols_to_scale = [\n",
    "        col for col in numeric_columns \n",
    "        if df_scaled[col].max() - df_scaled[col].min() > 1\n",
    "    ]\n",
    "\n",
    "    print(f\"Kolom yang akan dinormalisasi: {', '.join(cols_to_scale)}\")\n",
    "\n",
    "    # Lakukan MinMaxScaler pada kolom tersebut\n",
    "    if cols_to_scale:\n",
    "        print(\"Sebelum normalisasi:\")\n",
    "        display(df_scaled[cols_to_scale].head())\n",
    "        scaler = MinMaxScaler()\n",
    "        df_scaled[cols_to_scale] = scaler.fit_transform(df_scaled[cols_to_scale])\n",
    "        print(\"Normalisasi selesai menggunakan MinMaxScaler.\")\n",
    "        print(\"Setelah normalisasi:\")\n",
    "        display(df_scaled[cols_to_scale].head())\n",
    "        print(\"\\n\")\n",
    "    else:\n",
    "        print(\"Tidak ada kolom yang perlu dinormalisasi.\\n\")\n",
    "    \n",
    "    return df_scaled\n"
   ]
  },
  {
   "cell_type": "code",
   "execution_count": 302,
   "id": "3ceb28ff",
   "metadata": {},
   "outputs": [
    {
     "name": "stdout",
     "output_type": "stream",
     "text": [
      "Kolom yang akan dinormalisasi: Age, Avg_Daily_Usage_Hours, Sleep_Hours_Per_Night, Mental_Health_Score, Conflicts_Over_Social_Media, Addicted_Score\n",
      "Sebelum normalisasi:\n"
     ]
    },
    {
     "data": {
      "application/vnd.microsoft.datawrangler.viewer.v0+json": {
       "columns": [
        {
         "name": "index",
         "rawType": "int64",
         "type": "integer"
        },
        {
         "name": "Age",
         "rawType": "int64",
         "type": "integer"
        },
        {
         "name": "Avg_Daily_Usage_Hours",
         "rawType": "int64",
         "type": "integer"
        },
        {
         "name": "Sleep_Hours_Per_Night",
         "rawType": "int64",
         "type": "integer"
        },
        {
         "name": "Mental_Health_Score",
         "rawType": "int64",
         "type": "integer"
        },
        {
         "name": "Conflicts_Over_Social_Media",
         "rawType": "int64",
         "type": "integer"
        },
        {
         "name": "Addicted_Score",
         "rawType": "int64",
         "type": "integer"
        }
       ],
       "conversionMethod": "pd.DataFrame",
       "ref": "9a7bb897-0bd5-4605-ae11-8ceac4aae322",
       "rows": [
        [
         "0",
         "19",
         "5",
         "6",
         "6",
         "3",
         "8"
        ],
        [
         "1",
         "22",
         "2",
         "7",
         "8",
         "0",
         "3"
        ],
        [
         "2",
         "20",
         "6",
         "5",
         "5",
         "4",
         "9"
        ],
        [
         "3",
         "18",
         "3",
         "7",
         "7",
         "1",
         "4"
        ],
        [
         "4",
         "21",
         "4",
         "6",
         "6",
         "2",
         "7"
        ]
       ],
       "shape": {
        "columns": 6,
        "rows": 5
       }
      },
      "text/html": [
       "<div>\n",
       "<style scoped>\n",
       "    .dataframe tbody tr th:only-of-type {\n",
       "        vertical-align: middle;\n",
       "    }\n",
       "\n",
       "    .dataframe tbody tr th {\n",
       "        vertical-align: top;\n",
       "    }\n",
       "\n",
       "    .dataframe thead th {\n",
       "        text-align: right;\n",
       "    }\n",
       "</style>\n",
       "<table border=\"1\" class=\"dataframe\">\n",
       "  <thead>\n",
       "    <tr style=\"text-align: right;\">\n",
       "      <th></th>\n",
       "      <th>Age</th>\n",
       "      <th>Avg_Daily_Usage_Hours</th>\n",
       "      <th>Sleep_Hours_Per_Night</th>\n",
       "      <th>Mental_Health_Score</th>\n",
       "      <th>Conflicts_Over_Social_Media</th>\n",
       "      <th>Addicted_Score</th>\n",
       "    </tr>\n",
       "  </thead>\n",
       "  <tbody>\n",
       "    <tr>\n",
       "      <th>0</th>\n",
       "      <td>19</td>\n",
       "      <td>5</td>\n",
       "      <td>6</td>\n",
       "      <td>6</td>\n",
       "      <td>3</td>\n",
       "      <td>8</td>\n",
       "    </tr>\n",
       "    <tr>\n",
       "      <th>1</th>\n",
       "      <td>22</td>\n",
       "      <td>2</td>\n",
       "      <td>7</td>\n",
       "      <td>8</td>\n",
       "      <td>0</td>\n",
       "      <td>3</td>\n",
       "    </tr>\n",
       "    <tr>\n",
       "      <th>2</th>\n",
       "      <td>20</td>\n",
       "      <td>6</td>\n",
       "      <td>5</td>\n",
       "      <td>5</td>\n",
       "      <td>4</td>\n",
       "      <td>9</td>\n",
       "    </tr>\n",
       "    <tr>\n",
       "      <th>3</th>\n",
       "      <td>18</td>\n",
       "      <td>3</td>\n",
       "      <td>7</td>\n",
       "      <td>7</td>\n",
       "      <td>1</td>\n",
       "      <td>4</td>\n",
       "    </tr>\n",
       "    <tr>\n",
       "      <th>4</th>\n",
       "      <td>21</td>\n",
       "      <td>4</td>\n",
       "      <td>6</td>\n",
       "      <td>6</td>\n",
       "      <td>2</td>\n",
       "      <td>7</td>\n",
       "    </tr>\n",
       "  </tbody>\n",
       "</table>\n",
       "</div>"
      ],
      "text/plain": [
       "   Age  Avg_Daily_Usage_Hours  Sleep_Hours_Per_Night  Mental_Health_Score  \\\n",
       "0   19                      5                      6                    6   \n",
       "1   22                      2                      7                    8   \n",
       "2   20                      6                      5                    5   \n",
       "3   18                      3                      7                    7   \n",
       "4   21                      4                      6                    6   \n",
       "\n",
       "   Conflicts_Over_Social_Media  Addicted_Score  \n",
       "0                            3               8  \n",
       "1                            0               3  \n",
       "2                            4               9  \n",
       "3                            1               4  \n",
       "4                            2               7  "
      ]
     },
     "metadata": {},
     "output_type": "display_data"
    },
    {
     "name": "stdout",
     "output_type": "stream",
     "text": [
      "Normalisasi selesai menggunakan MinMaxScaler.\n",
      "Setelah normalisasi:\n"
     ]
    },
    {
     "data": {
      "application/vnd.microsoft.datawrangler.viewer.v0+json": {
       "columns": [
        {
         "name": "index",
         "rawType": "int64",
         "type": "integer"
        },
        {
         "name": "Age",
         "rawType": "float64",
         "type": "float"
        },
        {
         "name": "Avg_Daily_Usage_Hours",
         "rawType": "float64",
         "type": "float"
        },
        {
         "name": "Sleep_Hours_Per_Night",
         "rawType": "float64",
         "type": "float"
        },
        {
         "name": "Mental_Health_Score",
         "rawType": "float64",
         "type": "float"
        },
        {
         "name": "Conflicts_Over_Social_Media",
         "rawType": "float64",
         "type": "float"
        },
        {
         "name": "Addicted_Score",
         "rawType": "float64",
         "type": "float"
        }
       ],
       "conversionMethod": "pd.DataFrame",
       "ref": "9dcf0c92-b571-4b64-89e3-2dd1579926da",
       "rows": [
        [
         "0",
         "0.16666666666666652",
         "0.6",
         "0.5",
         "0.40000000000000013",
         "0.6000000000000001",
         "0.8571428571428571"
        ],
        [
         "1",
         "0.6666666666666665",
         "0.0",
         "0.6666666666666665",
         "0.8",
         "0.0",
         "0.14285714285714285"
        ],
        [
         "2",
         "0.33333333333333304",
         "0.8000000000000002",
         "0.33333333333333326",
         "0.19999999999999996",
         "0.8",
         "0.9999999999999999"
        ],
        [
         "3",
         "0.0",
         "0.20000000000000007",
         "0.6666666666666665",
         "0.6000000000000001",
         "0.2",
         "0.2857142857142857"
        ],
        [
         "4",
         "0.5",
         "0.4",
         "0.5",
         "0.40000000000000013",
         "0.4",
         "0.7142857142857143"
        ]
       ],
       "shape": {
        "columns": 6,
        "rows": 5
       }
      },
      "text/html": [
       "<div>\n",
       "<style scoped>\n",
       "    .dataframe tbody tr th:only-of-type {\n",
       "        vertical-align: middle;\n",
       "    }\n",
       "\n",
       "    .dataframe tbody tr th {\n",
       "        vertical-align: top;\n",
       "    }\n",
       "\n",
       "    .dataframe thead th {\n",
       "        text-align: right;\n",
       "    }\n",
       "</style>\n",
       "<table border=\"1\" class=\"dataframe\">\n",
       "  <thead>\n",
       "    <tr style=\"text-align: right;\">\n",
       "      <th></th>\n",
       "      <th>Age</th>\n",
       "      <th>Avg_Daily_Usage_Hours</th>\n",
       "      <th>Sleep_Hours_Per_Night</th>\n",
       "      <th>Mental_Health_Score</th>\n",
       "      <th>Conflicts_Over_Social_Media</th>\n",
       "      <th>Addicted_Score</th>\n",
       "    </tr>\n",
       "  </thead>\n",
       "  <tbody>\n",
       "    <tr>\n",
       "      <th>0</th>\n",
       "      <td>0.166667</td>\n",
       "      <td>0.6</td>\n",
       "      <td>0.500000</td>\n",
       "      <td>0.4</td>\n",
       "      <td>0.6</td>\n",
       "      <td>0.857143</td>\n",
       "    </tr>\n",
       "    <tr>\n",
       "      <th>1</th>\n",
       "      <td>0.666667</td>\n",
       "      <td>0.0</td>\n",
       "      <td>0.666667</td>\n",
       "      <td>0.8</td>\n",
       "      <td>0.0</td>\n",
       "      <td>0.142857</td>\n",
       "    </tr>\n",
       "    <tr>\n",
       "      <th>2</th>\n",
       "      <td>0.333333</td>\n",
       "      <td>0.8</td>\n",
       "      <td>0.333333</td>\n",
       "      <td>0.2</td>\n",
       "      <td>0.8</td>\n",
       "      <td>1.000000</td>\n",
       "    </tr>\n",
       "    <tr>\n",
       "      <th>3</th>\n",
       "      <td>0.000000</td>\n",
       "      <td>0.2</td>\n",
       "      <td>0.666667</td>\n",
       "      <td>0.6</td>\n",
       "      <td>0.2</td>\n",
       "      <td>0.285714</td>\n",
       "    </tr>\n",
       "    <tr>\n",
       "      <th>4</th>\n",
       "      <td>0.500000</td>\n",
       "      <td>0.4</td>\n",
       "      <td>0.500000</td>\n",
       "      <td>0.4</td>\n",
       "      <td>0.4</td>\n",
       "      <td>0.714286</td>\n",
       "    </tr>\n",
       "  </tbody>\n",
       "</table>\n",
       "</div>"
      ],
      "text/plain": [
       "        Age  Avg_Daily_Usage_Hours  Sleep_Hours_Per_Night  \\\n",
       "0  0.166667                    0.6               0.500000   \n",
       "1  0.666667                    0.0               0.666667   \n",
       "2  0.333333                    0.8               0.333333   \n",
       "3  0.000000                    0.2               0.666667   \n",
       "4  0.500000                    0.4               0.500000   \n",
       "\n",
       "   Mental_Health_Score  Conflicts_Over_Social_Media  Addicted_Score  \n",
       "0                  0.4                          0.6        0.857143  \n",
       "1                  0.8                          0.0        0.142857  \n",
       "2                  0.2                          0.8        1.000000  \n",
       "3                  0.6                          0.2        0.285714  \n",
       "4                  0.4                          0.4        0.714286  "
      ]
     },
     "metadata": {},
     "output_type": "display_data"
    },
    {
     "name": "stdout",
     "output_type": "stream",
     "text": [
      "\n",
      "\n"
     ]
    }
   ],
   "source": [
    "df_kecil = normalize_minmax(df_kecil)"
   ]
  },
  {
   "cell_type": "markdown",
   "id": "b84f0c42",
   "metadata": {},
   "source": [
    "---\n",
    "\n",
    "### 4. 🔁 **Implementasi K-Means (CPU & GPU)**"
   ]
  },
  {
   "cell_type": "code",
   "execution_count": 305,
   "id": "814d5d91",
   "metadata": {},
   "outputs": [
    {
     "name": "stdout",
     "output_type": "stream",
     "text": [
      "zsh:1: command not found: nvidia-smi\n"
     ]
    }
   ],
   "source": [
    "!nvidia-smi"
   ]
  },
  {
   "cell_type": "code",
   "execution_count": null,
   "id": "8ee4732c",
   "metadata": {},
   "outputs": [
    {
     "ename": "ModuleNotFoundError",
     "evalue": "No module named 'cuml'",
     "output_type": "error",
     "traceback": [
      "\u001b[0;31m---------------------------------------------------------------------------\u001b[0m",
      "\u001b[0;31mModuleNotFoundError\u001b[0m                       Traceback (most recent call last)",
      "Cell \u001b[0;32mIn[303], line 4\u001b[0m\n\u001b[1;32m      2\u001b[0m \u001b[38;5;28;01mfrom\u001b[39;00m \u001b[38;5;21;01msklearn\u001b[39;00m\u001b[38;5;21;01m.\u001b[39;00m\u001b[38;5;21;01mcluster\u001b[39;00m \u001b[38;5;28;01mimport\u001b[39;00m KMeans \u001b[38;5;28;01mas\u001b[39;00m KMeans_CPU\n\u001b[1;32m      3\u001b[0m \u001b[38;5;66;03m# GPU (RAPIDS cuML)\u001b[39;00m\n\u001b[0;32m----> 4\u001b[0m \u001b[38;5;28;01mfrom\u001b[39;00m \u001b[38;5;21;01mcuml\u001b[39;00m\u001b[38;5;21;01m.\u001b[39;00m\u001b[38;5;21;01mcluster\u001b[39;00m \u001b[38;5;28;01mimport\u001b[39;00m KMeans \u001b[38;5;28;01mas\u001b[39;00m KMeans_GPU\n\u001b[1;32m      6\u001b[0m \u001b[38;5;28;01mimport\u001b[39;00m \u001b[38;5;21;01mtime\u001b[39;00m\n",
      "\u001b[0;31mModuleNotFoundError\u001b[0m: No module named 'cuml'"
     ]
    }
   ],
   "source": [
    "# CPU\n",
    "from sklearn.cluster import KMeans as KMeans_CPU\n",
    "# GPU (RAPIDS cuML)\n",
    "# from cuml.cluster import KMeans as KMeans_GPU\n",
    "\n",
    "import time"
   ]
  }
 ],
 "metadata": {
  "kernelspec": {
   "display_name": "base",
   "language": "python",
   "name": "python3"
  },
  "language_info": {
   "codemirror_mode": {
    "name": "ipython",
    "version": 3
   },
   "file_extension": ".py",
   "mimetype": "text/x-python",
   "name": "python",
   "nbconvert_exporter": "python",
   "pygments_lexer": "ipython3",
   "version": "3.12.7"
  }
 },
 "nbformat": 4,
 "nbformat_minor": 5
}
